{
 "cells": [
  {
   "cell_type": "markdown",
   "metadata": {},
   "source": [
    "Copyright 2019 Google LLC\n",
    "\n",
    "Licensed under the Apache License, Version 2.0 (the \"License\"); you may not use this file except in compliance with the License. You may obtain a copy of the License at\n",
    "\n",
    "https://www.apache.org/licenses/LICENSE-2.0\n",
    "Unless required by applicable law or agreed to in writing, software distributed under the License is distributed on an \"AS IS\" BASIS, WITHOUT WARRANTIES OR CONDITIONS OF ANY KIND, either express or implied. See the License for the specific language governing permissions and limitations under the License."
   ]
  },
  {
   "cell_type": "code",
   "execution_count": null,
   "metadata": {},
   "outputs": [],
   "source": [
    "!git clone https://github.com/google-research/google-research.git"
   ]
  },
  {
   "cell_type": "code",
   "execution_count": 1,
   "metadata": {},
   "outputs": [],
   "source": [
    "import sys\n",
    "import os\n",
    "import tarfile\n",
    "import urllib\n",
    "sys.path.append('./google-research')"
   ]
  },
  {
   "cell_type": "code",
   "execution_count": 2,
   "metadata": {},
   "outputs": [],
   "source": [
    "os.environ[\"CUDA_VISIBLE_DEVICES\"] = \"-1\"  # no need to use gpu"
   ]
  },
  {
   "cell_type": "code",
   "execution_count": 3,
   "metadata": {},
   "outputs": [],
   "source": [
    "import tensorflow as tf\n",
    "import tensorflow.compat.v1 as tf1\n",
    "import logging\n",
    "from kws_streaming.models import models\n",
    "from kws_streaming.train import model_flags\n",
    "from kws_streaming.layers.modes import Modes\n",
    "from kws_streaming.train import test\n",
    "from kws_streaming.models import utils\n",
    "from kws_streaming.data import input_data\n",
    "from kws_streaming.models import model_params"
   ]
  },
  {
   "cell_type": "code",
   "execution_count": 4,
   "metadata": {},
   "outputs": [
    {
     "data": {
      "text/plain": [
       "'2.1.0'"
      ]
     },
     "execution_count": 4,
     "metadata": {},
     "output_type": "execute_result"
    }
   ],
   "source": [
    "tf1.__version__"
   ]
  },
  {
   "cell_type": "code",
   "execution_count": 5,
   "metadata": {},
   "outputs": [],
   "source": [
    "config = tf1.ConfigProto()\n",
    "config.gpu_options.allow_growth=True\n",
    "sess = tf1.Session(config=config)"
   ]
  },
  {
   "cell_type": "code",
   "execution_count": 6,
   "metadata": {},
   "outputs": [],
   "source": [
    "tf1.disable_eager_execution()"
   ]
  },
  {
   "cell_type": "code",
   "execution_count": 7,
   "metadata": {},
   "outputs": [],
   "source": [
    "DATA_VERSION = 1"
   ]
  },
  {
   "cell_type": "code",
   "execution_count": 8,
   "metadata": {},
   "outputs": [],
   "source": [
    "if DATA_VERSION == 2:\n",
    "  DATA_URL = \"https://storage.googleapis.com/download.tensorflow.org/data/speech_commands_v0.02.tar.gz\"\n",
    "  DATA_PATH = \"/home/tmp/kws_streaming/data22/\"\n",
    "elif DATA_VERSION == 1:\n",
    "  DATA_URL = \"http://download.tensorflow.org/data/speech_commands_v0.01.tar.gz\"\n",
    "  DATA_PATH = \"/home/tmp/kws_streaming/data11/\"\n",
    "else:\n",
    "  assert(False)"
   ]
  },
  {
   "cell_type": "code",
   "execution_count": 9,
   "metadata": {},
   "outputs": [
    {
     "data": {
      "text/plain": [
       "'speech_commands_v0.01.tar.gz'"
      ]
     },
     "execution_count": 9,
     "metadata": {},
     "output_type": "execute_result"
    }
   ],
   "source": [
    "base_name = os.path.basename(DATA_URL)\n",
    "base_name"
   ]
  },
  {
   "cell_type": "code",
   "execution_count": 10,
   "metadata": {},
   "outputs": [],
   "source": [
    "arch_file_name = os.path.join(DATA_PATH, base_name)\n",
    "if not os.path.isfile(arch_file_name):\n",
    "  # download data\n",
    "  if sys.version_info >= (2, 5):\n",
    "    file_path = urllib.request.urlretrieve(DATA_URL, filename=arch_file_name)[0]\n",
    "  else:\n",
    "    file_path = urllib.urlretrieve(DATA_URL, filename=arch_file_name)[0]\n",
    "\n",
    "  # unpack it\n",
    "  file_name, file_extension = os.path.splitext(base_name)\n",
    "  tar = tarfile.open(file_path)\n",
    "  tar.extractall(DATA_PATH)  \n",
    "  tar.close()"
   ]
  },
  {
   "cell_type": "code",
   "execution_count": 13,
   "metadata": {},
   "outputs": [],
   "source": [
    "# default parameters for data splitting\n",
    "flags = model_params.Params()\n",
    "flags.data_dir = DATA_PATH\n",
    "flags.data_url = DATA_URL\n",
    "flags = model_flags.update_flags(flags)"
   ]
  },
  {
   "cell_type": "code",
   "execution_count": 14,
   "metadata": {},
   "outputs": [],
   "source": [
    "audio_processor = input_data.AudioProcessor(flags)"
   ]
  },
  {
   "cell_type": "code",
   "execution_count": 15,
   "metadata": {},
   "outputs": [
    {
     "name": "stdout",
     "output_type": "stream",
     "text": [
      "testing_set_size 3081\n",
      "training_set_size 22246\n",
      "validation_set_size 3093\n"
     ]
    }
   ],
   "source": [
    "testing_set_size = audio_processor.set_size('testing')\n",
    "print(\"testing_set_size \" + str(testing_set_size))\n",
    "training_set_size = audio_processor.set_size('training')\n",
    "print(\"training_set_size \" + str(training_set_size))\n",
    "validation_set_size = audio_processor.set_size('validation')\n",
    "print(\"validation_set_size \" + str(validation_set_size))"
   ]
  },
  {
   "cell_type": "code",
   "execution_count": 16,
   "metadata": {},
   "outputs": [],
   "source": [
    "# V2\n",
    "# testing_set_size 4890\n",
    "# training_set_size 36923\n",
    "# validation_set_size 4445\n",
    "\n",
    "# V1\n",
    "# testing_set_size 3081\n",
    "# training_set_size 22246\n",
    "# validation_set_size 3093"
   ]
  },
  {
   "cell_type": "code",
   "execution_count": 17,
   "metadata": {},
   "outputs": [
    {
     "data": {
      "text/plain": [
       "{'down': 5,\n",
       " 'four': 1,\n",
       " 'sheila': 1,\n",
       " 'three': 1,\n",
       " 'one': 1,\n",
       " 'go': 11,\n",
       " 'no': 3,\n",
       " 'right': 7,\n",
       " 'wow': 1,\n",
       " 'six': 1,\n",
       " 'happy': 1,\n",
       " 'on': 8,\n",
       " 'marvin': 1,\n",
       " 'five': 1,\n",
       " 'left': 6,\n",
       " 'seven': 1,\n",
       " 'bird': 1,\n",
       " 'yes': 2,\n",
       " 'off': 9,\n",
       " 'zero': 1,\n",
       " 'eight': 1,\n",
       " 'up': 4,\n",
       " 'bed': 1,\n",
       " 'cat': 1,\n",
       " 'stop': 10,\n",
       " 'two': 1,\n",
       " 'dog': 1,\n",
       " 'house': 1,\n",
       " 'nine': 1,\n",
       " 'tree': 1,\n",
       " '_silence_': 0}"
      ]
     },
     "execution_count": 17,
     "metadata": {},
     "output_type": "execute_result"
    }
   ],
   "source": [
    "# all words used for modeling: we have target words + unknown words (with index 1)\n",
    "audio_processor.word_to_index"
   ]
  },
  {
   "cell_type": "code",
   "execution_count": 19,
   "metadata": {},
   "outputs": [
    {
     "data": {
      "text/plain": [
       "32"
      ]
     },
     "execution_count": 19,
     "metadata": {},
     "output_type": "execute_result"
    }
   ],
   "source": [
    "# find the start of the file name where label begins\n",
    "string = audio_processor.data_index[\"validation\"][0]['file']\n",
    "res = [i for i in range(len(string)) if string.startswith('/', i)] \n",
    "start_file = res[-2]+1\n",
    "start_file"
   ]
  },
  {
   "cell_type": "code",
   "execution_count": 21,
   "metadata": {},
   "outputs": [
    {
     "data": {
      "text/plain": [
       "'down/d197e3ae_nohash_0.wav'"
      ]
     },
     "execution_count": 21,
     "metadata": {},
     "output_type": "execute_result"
    }
   ],
   "source": [
    "audio_processor.data_index[\"validation\"][0]['file'][start_file:]"
   ]
  },
  {
   "cell_type": "code",
   "execution_count": 23,
   "metadata": {},
   "outputs": [
    {
     "data": {
      "text/plain": [
       "{5: 'down',\n",
       " 1: '_unknown_',\n",
       " 11: 'go',\n",
       " 3: 'no',\n",
       " 7: 'right',\n",
       " 8: 'on',\n",
       " 6: 'left',\n",
       " 2: 'yes',\n",
       " 9: 'off',\n",
       " 4: 'up',\n",
       " 10: 'stop',\n",
       " 0: '_silence_'}"
      ]
     },
     "execution_count": 23,
     "metadata": {},
     "output_type": "execute_result"
    }
   ],
   "source": [
    "index_to_label = {}\n",
    "unknown_category = []\n",
    "# labeles used for training\n",
    "for word in audio_processor.word_to_index.keys():\n",
    "  if audio_processor.word_to_index[word] == input_data.SILENCE_INDEX:\n",
    "    index_to_label[audio_processor.word_to_index[word]] = input_data.SILENCE_LABEL\n",
    "  elif audio_processor.word_to_index[word] == input_data.UNKNOWN_WORD_INDEX:\n",
    "    index_to_label[audio_processor.word_to_index[word]] = input_data.UNKNOWN_WORD_LABEL\n",
    "    unknown_category.append(word)\n",
    "  else:\n",
    "    index_to_label[audio_processor.word_to_index[word]] = word\n",
    "\n",
    "# training labels\n",
    "index_to_label"
   ]
  },
  {
   "cell_type": "code",
   "execution_count": 24,
   "metadata": {},
   "outputs": [
    {
     "data": {
      "text/plain": [
       "['four',\n",
       " 'sheila',\n",
       " 'three',\n",
       " 'one',\n",
       " 'wow',\n",
       " 'six',\n",
       " 'happy',\n",
       " 'marvin',\n",
       " 'five',\n",
       " 'seven',\n",
       " 'bird',\n",
       " 'zero',\n",
       " 'eight',\n",
       " 'bed',\n",
       " 'cat',\n",
       " 'two',\n",
       " 'dog',\n",
       " 'house',\n",
       " 'nine',\n",
       " 'tree']"
      ]
     },
     "execution_count": 24,
     "metadata": {},
     "output_type": "execute_result"
    }
   ],
   "source": [
    "# words belonging to unknown categry\n",
    "unknown_category"
   ]
  },
  {
   "cell_type": "code",
   "execution_count": 26,
   "metadata": {},
   "outputs": [],
   "source": [
    "def get_distribution(mode):\n",
    "  distrib_label = {}\n",
    "  distrib_words = {}\n",
    "  files = {}\n",
    "  for data in audio_processor.data_index[mode]:\n",
    "    word = data['label']\n",
    "    file = data['file'][start_file:]\n",
    "    index = audio_processor.word_to_index[word]\n",
    "    label = index_to_label[index]\n",
    "    if word in files:\n",
    "      files[word].append(file)\n",
    "    else:\n",
    "      files[word] = [file]\n",
    "    \n",
    "    if label in distrib_label:\n",
    "      distrib_label[label] = distrib_label[label] + 1\n",
    "    else:\n",
    "      distrib_label[label] = 0\n",
    "      \n",
    "    if word in distrib_words:\n",
    "      distrib_words[word] = distrib_words[word] + 1\n",
    "    else:\n",
    "      distrib_words[word] = 0      \n",
    "  return distrib_words, distrib_label, files"
   ]
  },
  {
   "cell_type": "code",
   "execution_count": 27,
   "metadata": {},
   "outputs": [
    {
     "data": {
      "text/plain": [
       "{'_unknown_': 256,\n",
       " 'go': 250,\n",
       " 'yes': 255,\n",
       " 'on': 245,\n",
       " 'off': 261,\n",
       " 'down': 252,\n",
       " 'no': 251,\n",
       " 'stop': 248,\n",
       " 'up': 271,\n",
       " 'right': 258,\n",
       " 'left': 266,\n",
       " '_silence_': 256}"
      ]
     },
     "execution_count": 27,
     "metadata": {},
     "output_type": "execute_result"
    }
   ],
   "source": [
    "# distribution of labeles in testing data\n",
    "distrib_words_testing, distrib_labels_testing, files_testing = get_distribution('testing')\n",
    "distrib_labels_testing"
   ]
  },
  {
   "cell_type": "code",
   "execution_count": 32,
   "metadata": {},
   "outputs": [
    {
     "data": {
      "text/plain": [
       "{'_unknown_': 1853,\n",
       " 'on': 1863,\n",
       " 'stop': 1884,\n",
       " '_silence_': 1853,\n",
       " 'no': 1852,\n",
       " 'go': 1860,\n",
       " 'up': 1842,\n",
       " 'left': 1838,\n",
       " 'down': 1841,\n",
       " 'off': 1838,\n",
       " 'yes': 1859,\n",
       " 'right': 1851}"
      ]
     },
     "execution_count": 32,
     "metadata": {},
     "output_type": "execute_result"
    }
   ],
   "source": [
    "# distribution of labeles in training data\n",
    "distrib_words_training, distrib_labels_training, files_training = get_distribution('training')\n",
    "distrib_labels_training"
   ]
  },
  {
   "cell_type": "code",
   "execution_count": 39,
   "metadata": {},
   "outputs": [],
   "source": [
    "def parse_files(set_list_fname, label='yes'):\n",
    "  set_files = []\n",
    "  with open(set_list_fname) as f:\n",
    "    while True:\n",
    "      line = f.readline()\n",
    "      if not line:\n",
    "        break\n",
    "      if line.split('/')[0]==label:\n",
    "        set_files.append(line[:-1])    \n",
    "  return set_files"
   ]
  },
  {
   "cell_type": "code",
   "execution_count": 48,
   "metadata": {},
   "outputs": [],
   "source": [
    "def validate(my_list1, list2, print_in_list2=False):\n",
    "  cnt_my_val2 = 0\n",
    "  cnt_my_val1 = 0\n",
    "  for my_val in my_list1:\n",
    "    if my_val in list2:\n",
    "      cnt_my_val2 = cnt_my_val2 + 1\n",
    "      if print_in_list2:\n",
    "        print(my_val)\n",
    "    else:\n",
    "      cnt_my_val1 = cnt_my_val1 + 1\n",
    "      if not print_in_list2:\n",
    "        print(my_val)\n",
    "  return cnt_my_val1, cnt_my_val2"
   ]
  },
  {
   "cell_type": "code",
   "execution_count": 49,
   "metadata": {},
   "outputs": [],
   "source": [
    "file_list = os.path.join(DATA_PATH, \"testing_list.txt\")\n",
    "\n",
    "# validate that all wav used during testing belongs to testing_list\n",
    "for word in files_testing.keys():\n",
    "  if word != '_silence_':\n",
    "    word_files = parse_files(file_list, label=word)\n",
    "    _, cnt_val = validate(files_testing[word], word_files, False)\n",
    "    assert(cnt_val-len(files_testing[word])==0)"
   ]
  },
  {
   "cell_type": "code",
   "execution_count": 50,
   "metadata": {},
   "outputs": [],
   "source": [
    "\n",
    "distrib_words_training, distrib_labels_training, files_training = get_distribution('training')\n",
    "\n",
    "# validate that all wav used during testing do not belong to training data\n",
    "for word in files_testing.keys():\n",
    "  if word != '_silence_': # silence file does not matter becasue it is multiplied by zero\n",
    "    word_files = files_testing[word]\n",
    "    _, cnt_val = validate(files_training[word], word_files, True)\n",
    "    assert(cnt_val==0)"
   ]
  },
  {
   "cell_type": "code",
   "execution_count": null,
   "metadata": {},
   "outputs": [],
   "source": []
  }
 ],
 "metadata": {
  "kernelspec": {
   "display_name": "Python 3",
   "language": "python",
   "name": "python3"
  },
  "language_info": {
   "codemirror_mode": {
    "name": "ipython",
    "version": 3
   },
   "file_extension": ".py",
   "mimetype": "text/x-python",
   "name": "python",
   "nbconvert_exporter": "python",
   "pygments_lexer": "ipython3",
   "version": "3.6.9"
  }
 },
 "nbformat": 4,
 "nbformat_minor": 2
}

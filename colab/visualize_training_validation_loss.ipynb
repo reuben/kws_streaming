{
  "nbformat": 4,
  "nbformat_minor": 0,
  "metadata": {
    "colab": {
      "name": "visualize training, validation loss.ipynb",
      "provenance": [
        {
          "file_id": "1wP2hPrVOqiB8emOUADZRklHRZJFkC7Cl",
          "timestamp": 1579917787205
        },
        {
          "file_id": "1fBEsHtE-jTFofqtJYowI-vDSMokiy2mY",
          "timestamp": 1573319994394
        }
      ],
      "collapsed_sections": [],
      "last_runtime": {
        "build_target": "",
        "kind": "local"
      }
    },
    "kernelspec": {
      "name": "python2",
      "display_name": "Python 2"
    }
  },
  "cells": [
    {
      "cell_type": "markdown",
      "metadata": {
        "id": "fWHq8BOKVWkF",
        "colab_type": "text"
      },
      "source": [
        "Copyright 2019 Google LLC\n",
        "\n",
        "Licensed under the Apache License, Version 2.0 (the \"License\");\n",
        "you may not use this file except in compliance with the License.\n",
        "You may obtain a copy of the License at\n",
        "\n",
        "    https://www.apache.org/licenses/LICENSE-2.0\n",
        "\n",
        "Unless required by applicable law or agreed to in writing, software\n",
        "distributed under the License is distributed on an \"AS IS\" BASIS,\n",
        "WITHOUT WARRANTIES OR CONDITIONS OF ANY KIND, either express or implied.\n",
        "See the License for the specific language governing permissions and\n",
        "limitations under the License."
      ]
    },
    {
      "cell_type": "markdown",
      "metadata": {
        "id": "v9t8O2rZVnB3",
        "colab_type": "text"
      },
      "source": [
        "# Visualize models training/validation loss"
      ]
    },
    {
      "cell_type": "markdown",
      "metadata": {
        "id": "dAPgza3lUxqI",
        "colab_type": "text"
      },
      "source": [
        "## Prepare colab"
      ]
    },
    {
      "cell_type": "code",
      "metadata": {
        "id": "bqcuWa6aUz9G",
        "colab_type": "code",
        "colab": {}
      },
      "source": [
        "# bazel build -c opt --copt=-mavx2 //kws_streaming/colab:colab_notebook.par\n",
        "# ./bazel-bin/kws_streaming/colab/colab_notebook.par"
      ],
      "execution_count": 0,
      "outputs": []
    },
    {
      "cell_type": "markdown",
      "metadata": {
        "id": "_AYtMz4zU20-",
        "colab_type": "text"
      },
      "source": [
        "## Imports"
      ]
    },
    {
      "cell_type": "code",
      "metadata": {
        "id": "KdA3gfcAZVVB",
        "colab_type": "code",
        "colab": {}
      },
      "source": [
        "import tensorflow as tf\n",
        "import os\n",
        "import numpy as np\n",
        "import math\n",
        "import os.path\n",
        "import sys\n",
        "import matplotlib.pyplot as plt"
      ],
      "execution_count": 0,
      "outputs": []
    },
    {
      "cell_type": "markdown",
      "metadata": {
        "id": "Z64Kkz7BU4l9",
        "colab_type": "text"
      },
      "source": [
        "## Utils"
      ]
    },
    {
      "cell_type": "code",
      "metadata": {
        "id": "Gn2sW-d_EGlr",
        "colab_type": "code",
        "colab": {}
      },
      "source": [
        "def read_log(fname, tag=\"accuracy\"):\n",
        "  eval_acc = []\n",
        "  eval_loss = []\n",
        "  try:\n",
        "    for event in tf.train.summary_iterator(fname):\n",
        "      for value in event.summary.value:\n",
        "        if value.tag == tag:\n",
        "          eval_acc.append(value.simple_value)            \n",
        "  except:\n",
        "    print(\"stop parsing \" + fname)\n",
        "\n",
        "  return eval_acc, eval_loss"
      ],
      "execution_count": 0,
      "outputs": []
    },
    {
      "cell_type": "code",
      "metadata": {
        "id": "VjpDezzPEsDE",
        "colab_type": "code",
        "colab": {}
      },
      "source": [
        "def scan_log(log_path):\n",
        "  acc = []\n",
        "  found = False\n",
        "  if os.path.isdir(log_path):\n",
        "    for file in os.listdir(log_path):      \n",
        "      if file.endswith(\".com\"):\n",
        "        validation_file = os.path.join(log_path, file)        \n",
        "        acc = []\n",
        "        if os.path.isfile(validation_file):\n",
        "          if found:\n",
        "            raise ValueError(\"found duplicate log\")\n",
        "          acc, _ = read_log(validation_file)\n",
        "          found = True\n",
        "  return acc"
      ],
      "execution_count": 0,
      "outputs": []
    },
    {
      "cell_type": "code",
      "metadata": {
        "id": "57a3bxR_IW-T",
        "colab_type": "code",
        "colab": {}
      },
      "source": [
        "def train_eval_log(model_path):\n",
        "  log_path_train = model_path + \"logs/train/\"\n",
        "  acc_train = scan_log(log_path_train)\n",
        "  log_path_val = model_path + \"logs/validation/\"\n",
        "  acc_val = scan_log(log_path_val)\n",
        "  return acc_train, acc_val"
      ],
      "execution_count": 0,
      "outputs": []
    },
    {
      "cell_type": "markdown",
      "metadata": {
        "id": "UJznYas_VBXv",
        "colab_type": "text"
      },
      "source": [
        "## Read logs"
      ]
    },
    {
      "cell_type": "code",
      "metadata": {
        "id": "-YRaEmDaHDGd",
        "colab_type": "code",
        "colab": {}
      },
      "source": [
        "# set path to trained models\n",
        "model_path1 = \"/tmp/speech_commands/models2/att_rnn/\"\n",
        "model_path2 = \"/tmp/speech_commands/models2/att_mh_rnn/\""
      ],
      "execution_count": 0,
      "outputs": []
    },
    {
      "cell_type": "code",
      "metadata": {
        "id": "vhPvo2loICdA",
        "colab_type": "code",
        "colab": {}
      },
      "source": [
        "acc_train1, acc_val1 = train_eval_log(model_path1)\n",
        "acc_train2, acc_val2 = train_eval_log(model_path2)"
      ],
      "execution_count": 0,
      "outputs": []
    },
    {
      "cell_type": "markdown",
      "metadata": {
        "id": "t6ls7mwVVENy",
        "colab_type": "text"
      },
      "source": [
        "## Plot logs and compare models training/validation loss"
      ]
    },
    {
      "cell_type": "code",
      "metadata": {
        "id": "T5UIZGZhI1UP",
        "colab_type": "code",
        "colab": {}
      },
      "source": [
        "# smoothing filter\n",
        "window = np.hanning(41)\n",
        "window = window/window.sum()"
      ],
      "execution_count": 0,
      "outputs": []
    },
    {
      "cell_type": "code",
      "metadata": {
        "id": "I6B7iYElI1SP",
        "colab_type": "code",
        "colab": {}
      },
      "source": [
        "plt.figure(figsize=(20, 10))\n",
        "\n",
        "data_val1 = np.convolve(window, acc_val1, mode='valid')\n",
        "data_tr1 = np.convolve(window, acc_train1, mode='valid')\n",
        "\n",
        "data_val2 = np.convolve(window, acc_val2, mode='valid')\n",
        "data_tr2 = np.convolve(window, acc_train2, mode='valid')\n",
        "\n",
        "ratio1 = (float)(len(data_tr1)) / len(data_val1)\n",
        "ratio2 = (float)(len(data_tr2)) / len(data_val2)\n",
        "\n",
        "xx1 = ratio1 * np.arange(len(data_val1))\n",
        "plt_val1, = plt.plot(xx1, data_val1, label='val1')  \n",
        "plt_train1, = plt.plot(data_tr1, label='train1')    \n",
        "\n",
        "xx2 = ratio2 * np.arange(len(data_val2))\n",
        "plt_val2, = plt.plot(xx2, data_val2, label='val2')  \n",
        "plt_train2, = plt.plot(data_tr2, label='train2')\n",
        "\n",
        "plt.legend(handles=[plt_val1, plt_train1, plt_val2, plt_train2])"
      ],
      "execution_count": 0,
      "outputs": []
    }
  ]
}